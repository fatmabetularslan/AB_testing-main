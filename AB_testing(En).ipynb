{
 "cells": [
  {
   "cell_type": "markdown",
   "id": "cb0ca5ad-c50d-42d4-a045-4a948aef31b9",
   "metadata": {},
   "source": [
    "# Business Problem"
   ]
  },
  {
   "cell_type": "raw",
   "id": "5e6f0957-4f82-4625-8aa3-ceada97eb24a",
   "metadata": {},
   "source": [
    "Company X has recently introduced a new type of bidding, average bidding, as an alternative to the current type of bidding called maximum bidding. One of our clients, bombabomba.com, decided to test this new feature and\n",
    "wants to do an A/B test to see if average bidding converts more than maximum bidding."
   ]
  },
  {
   "cell_type": "markdown",
   "id": "5e56fa99-175d-461f-9b14-4f9056f4f3ee",
   "metadata": {},
   "source": [
    "# Dataset Story"
   ]
  },
  {
   "cell_type": "raw",
   "id": "f5ef5a82-678c-498c-97c4-8976fad7e76f",
   "metadata": {},
   "source": [
    "In this dataset, which includes the website information of bombabomba.com, there is information such as the number of advertisements that users see and click, as well as earnings information from here. There are two separate \n",
    "data sets, the control and test groups. The max binding strategy was presented to the control group, and the average binding strategy was presented to the test group.\n",
    "\n",
    "Impression : Ad views count\n",
    "- Click : The number of clicks on the displayed ad\n",
    "- Purchase : The number of products purchased after the ads clicked\n",
    "- Earning : Earnings after purchased products"
   ]
  },
  {
   "cell_type": "markdown",
   "id": "a0de1f95-c16a-4c17-89c2-d88a1d7550de",
   "metadata": {},
   "source": [
    "# Import To Libraries"
   ]
  },
  {
   "cell_type": "code",
   "execution_count": 1,
   "id": "7c7e53fb-dadf-458d-8802-e04a6dfedbdd",
   "metadata": {},
   "outputs": [],
   "source": [
    "import numpy as np\n",
    "import pandas as pd\n",
    "import matplotlib.pyplot as plt\n",
    "import seaborn as sns\n",
    "from scipy.stats import shapiro, levene, ttest_ind\n",
    "\n",
    "pd.set_option('display.max_columns', None)\n",
    "pd.set_option('display.float_format', lambda x: '%.4f' % x)"
   ]
  },
  {
   "cell_type": "markdown",
   "id": "77338622-34b6-481c-9999-c247b1f501c8",
   "metadata": {},
   "source": [
    "# Import to Dataset "
   ]
  },
  {
   "cell_type": "code",
   "execution_count": 2,
   "id": "8427bc07-b8b1-49bf-b201-28f490b07cec",
   "metadata": {},
   "outputs": [],
   "source": [
    "A_ = pd.read_excel(\"ab_testing.xlsx\", sheet_name=\"Control Group\")\n",
    "B_ = pd.read_excel(\"ab_testing.xlsx\", sheet_name=\"Test Group\")"
   ]
  },
  {
   "cell_type": "markdown",
   "id": "857b9a5a-3264-4924-9e2c-85be8eae2250",
   "metadata": {},
   "source": [
    "# Exploratory data analysis"
   ]
  },
  {
   "cell_type": "code",
   "execution_count": 5,
   "id": "72798e0f-c278-472e-b837-27a8f744d658",
   "metadata": {
    "tags": []
   },
   "outputs": [],
   "source": [
    "def missing_values_analysis(df):\n",
    "    na_columns_ = [col for col in df.columns if df[col].isnull().sum() > 0]\n",
    "    n_miss = df[na_columns_].isnull().sum().sort_values(ascending=True)\n",
    "    ratio_ = (df[na_columns_].isnull().sum() / df.shape[0] * 100).sort_values(ascending=True)\n",
    "    missing_df = pd.concat([n_miss, np.round(ratio_, 2)], axis=1, keys=['Total Missing Values', 'Ratio'])\n",
    "    missing_df = pd.DataFrame(missing_df)\n",
    "    return missing_df"
   ]
  },
  {
   "cell_type": "code",
   "execution_count": 13,
   "id": "384fa129-075f-4a47-9523-d3bcaf01e075",
   "metadata": {},
   "outputs": [],
   "source": [
    "def check_df(df, head=5, box=False, column=\"Purchase\"):#Since the target variable we focus on here is the Purchase variable, we will be moving through this variable.\n",
    "    print(\"###################### Shape ######################\")\n",
    "    print(df.shape)\n",
    "\n",
    "    print(\"###################### Types ######################\")\n",
    "    print(df.dtypes)\n",
    "\n",
    "    print(\"###################### Head ######################\")\n",
    "    print(df.head(head))\n",
    "\n",
    "    print(\"###################### Missing Value Analysis ######################\")\n",
    "    print(missing_values_analysis(df))\n",
    "\n",
    "    print(\"###################### Quantiles ######################\")\n",
    "    print(df.quantile([0, 0.05, 0.10, 0.25, 0.50, 0.75, 0.95, 0.99, 1]).T)\n",
    "\n",
    "    print(\"###################### BOX PLOT ######################\")\n",
    "    if box == True:\n",
    "        sns.boxplot(x=df[column])\n",
    "        print(plt.show())"
   ]
  },
  {
   "cell_type": "code",
   "execution_count": 14,
   "id": "15cbb7a5-af56-4d5c-93ac-2f0317edf1c5",
   "metadata": {},
   "outputs": [
    {
     "name": "stdout",
     "output_type": "stream",
     "text": [
      "###################### Shape ######################\n",
      "(40, 4)\n",
      "###################### Types ######################\n",
      "Impression    float64\n",
      "Click         float64\n",
      "Purchase      float64\n",
      "Earning       float64\n",
      "dtype: object\n",
      "###################### Head ######################\n",
      "   Impression     Click  Purchase   Earning\n",
      "0  82529.4593 6090.0773  665.2113 2311.2771\n",
      "1  98050.4519 3382.8618  315.0849 1742.8069\n",
      "2  82696.0235 4167.9657  458.0837 1797.8274\n",
      "3 109914.4004 4910.8822  487.0908 1696.2292\n",
      "4 108457.7626 5987.6558  441.0340 1543.7202\n",
      "###################### Missing Value Analysis ######################\n",
      "Empty DataFrame\n",
      "Columns: [Total Missing Values, Ratio]\n",
      "Index: []\n",
      "###################### Quantiles ######################\n",
      "               0.0000     0.0500     0.1000     0.2500     0.5000      0.7500  \\\n",
      "Impression 45475.9430 79412.0179 81711.1203 85726.6903 99790.7011 115212.8165   \n",
      "Click       2189.7532  3367.4843  3582.0866  4124.3041  5001.2206   5923.8036   \n",
      "Purchase     267.0289   328.6624   381.9927   470.0955   531.2063    637.9571   \n",
      "Earning     1253.9895  1329.5771  1569.0558  1685.8472  1975.1605   2119.8028   \n",
      "\n",
      "                0.9500      0.9900      1.0000  \n",
      "Impression 132950.5325 143105.7911 147539.3363  \n",
      "Click        7374.3612   7761.7951   7959.1251  \n",
      "Purchase      748.2708    790.1878    801.7950  \n",
      "Earning      2318.5285   2481.3087   2497.2952  \n",
      "###################### BOX PLOT ######################\n"
     ]
    },
    {
     "data": {
      "image/png": "[encoded data removed]",
      "text/plain": [
       "<Figure size 432x288 with 1 Axes>"
      ]
     },
     "metadata": {
      "needs_background": "light"
     },
     "output_type": "display_data"
    },
    {
     "name": "stdout",
     "output_type": "stream",
     "text": [
      "None\n"
     ]
    }
   ],
   "source": [
    "check_df(A_,box=True)"
   ]
  },
  {
   "cell_type": "code",
   "execution_count": 15,
   "id": "bf0a81be-cea7-4a0d-8cc9-93d340d19e56",
   "metadata": {},
   "outputs": [
    {
     "name": "stdout",
     "output_type": "stream",
     "text": [
      "###################### Shape ######################\n",
      "(40, 4)\n",
      "###################### Types ######################\n",
      "Impression    float64\n",
      "Click         float64\n",
      "Purchase      float64\n",
      "Earning       float64\n",
      "dtype: object\n",
      "###################### Head ######################\n",
      "   Impression     Click  Purchase   Earning\n",
      "0 120103.5038 3216.5480  702.1603 1939.6112\n",
      "1 134775.9434 3635.0824  834.0543 2929.4058\n",
      "2 107806.6208 3057.1436  422.9343 2526.2449\n",
      "3 116445.2755 4650.4739  429.0335 2281.4286\n",
      "4 145082.5168 5201.3877  749.8604 2781.6975\n",
      "###################### Missing Value Analysis ######################\n",
      "Empty DataFrame\n",
      "Columns: [Total Missing Values, Ratio]\n",
      "Index: []\n",
      "###################### Quantiles ######################\n",
      "               0.0000     0.0500     0.1000      0.2500      0.5000  \\\n",
      "Impression 79033.8349 83150.5038 97389.7667 112691.9708 119291.3008   \n",
      "Click       1836.6299  2600.3610  2917.2653   3376.8190   3931.3598   \n",
      "Purchase     311.6295   356.6954   381.0550    444.6268    551.3557   \n",
      "Earning     1939.6112  2080.9762  2186.3923   2280.5374   2544.6661   \n",
      "\n",
      "                0.7500      0.9500      0.9900      1.0000  \n",
      "Impression 132050.5789 153178.6911 158245.2638 158605.9205  \n",
      "Click        4660.4979   5271.1869   6012.8773   6019.6951  \n",
      "Purchase      699.8624    854.2089    876.5761    889.9105  \n",
      "Earning      2761.5454   2931.3114   3091.9409   3171.4897  \n",
      "###################### BOX PLOT ######################\n"
     ]
    },
    {
     "data": {
      "image/png": "[encoded data removed]",
      "text/plain": [
       "<Figure size 432x288 with 1 Axes>"
      ]
     },
     "metadata": {
      "needs_background": "light"
     },
     "output_type": "display_data"
    },
    {
     "name": "stdout",
     "output_type": "stream",
     "text": [
      "None\n"
     ]
    }
   ],
   "source": [
    "check_df(B_,box=True)"
   ]
  },
  {
   "cell_type": "markdown",
   "id": "5a6263d8-d4e2-427e-8ddc-07bc57501273",
   "metadata": {},
   "source": [
    "# After the analysis, combine the control and test group data using the concat method."
   ]
  },
  {
   "cell_type": "code",
   "execution_count": 16,
   "id": "97144797-7e5b-4c52-ba87-e08723b01f8a",
   "metadata": {},
   "outputs": [
    {
     "data": {
      "text/html": [
       "<div>\n",
       "<style scoped>\n",
       "    .dataframe tbody tr th:only-of-type {\n",
       "        vertical-align: middle;\n",
       "    }\n",
       "\n",
       "    .dataframe tbody tr th {\n",
       "        vertical-align: top;\n",
       "    }\n",
       "\n",
       "    .dataframe thead th {\n",
       "        text-align: right;\n",
       "    }\n",
       "</style>\n",
       "<table border=\"1\" class=\"dataframe\">\n",
       "  <thead>\n",
       "    <tr style=\"text-align: right;\">\n",
       "      <th></th>\n",
       "      <th>Impression_A</th>\n",
       "      <th>Click_A</th>\n",
       "      <th>Purchase_A</th>\n",
       "      <th>Earning_A</th>\n",
       "      <th>Impression_B</th>\n",
       "      <th>Click_B</th>\n",
       "      <th>Purchase_B</th>\n",
       "      <th>Earning_B</th>\n",
       "    </tr>\n",
       "  </thead>\n",
       "  <tbody>\n",
       "    <tr>\n",
       "      <th>0</th>\n",
       "      <td>82529.4593</td>\n",
       "      <td>6090.0773</td>\n",
       "      <td>665.2113</td>\n",
       "      <td>2311.2771</td>\n",
       "      <td>120103.5038</td>\n",
       "      <td>3216.5480</td>\n",
       "      <td>702.1603</td>\n",
       "      <td>1939.6112</td>\n",
       "    </tr>\n",
       "    <tr>\n",
       "      <th>1</th>\n",
       "      <td>98050.4519</td>\n",
       "      <td>3382.8618</td>\n",
       "      <td>315.0849</td>\n",
       "      <td>1742.8069</td>\n",
       "      <td>134775.9434</td>\n",
       "      <td>3635.0824</td>\n",
       "      <td>834.0543</td>\n",
       "      <td>2929.4058</td>\n",
       "    </tr>\n",
       "    <tr>\n",
       "      <th>2</th>\n",
       "      <td>82696.0235</td>\n",
       "      <td>4167.9657</td>\n",
       "      <td>458.0837</td>\n",
       "      <td>1797.8274</td>\n",
       "      <td>107806.6208</td>\n",
       "      <td>3057.1436</td>\n",
       "      <td>422.9343</td>\n",
       "      <td>2526.2449</td>\n",
       "    </tr>\n",
       "    <tr>\n",
       "      <th>3</th>\n",
       "      <td>109914.4004</td>\n",
       "      <td>4910.8822</td>\n",
       "      <td>487.0908</td>\n",
       "      <td>1696.2292</td>\n",
       "      <td>116445.2755</td>\n",
       "      <td>4650.4739</td>\n",
       "      <td>429.0335</td>\n",
       "      <td>2281.4286</td>\n",
       "    </tr>\n",
       "    <tr>\n",
       "      <th>4</th>\n",
       "      <td>108457.7626</td>\n",
       "      <td>5987.6558</td>\n",
       "      <td>441.0340</td>\n",
       "      <td>1543.7202</td>\n",
       "      <td>145082.5168</td>\n",
       "      <td>5201.3877</td>\n",
       "      <td>749.8604</td>\n",
       "      <td>2781.6975</td>\n",
       "    </tr>\n",
       "  </tbody>\n",
       "</table>\n",
       "</div>"
      ],
      "text/plain": [
       "   Impression_A   Click_A  Purchase_A  Earning_A  Impression_B   Click_B  \\\n",
       "0    82529.4593 6090.0773    665.2113  2311.2771   120103.5038 3216.5480   \n",
       "1    98050.4519 3382.8618    315.0849  1742.8069   134775.9434 3635.0824   \n",
       "2    82696.0235 4167.9657    458.0837  1797.8274   107806.6208 3057.1436   \n",
       "3   109914.4004 4910.8822    487.0908  1696.2292   116445.2755 4650.4739   \n",
       "4   108457.7626 5987.6558    441.0340  1543.7202   145082.5168 5201.3877   \n",
       "\n",
       "   Purchase_B  Earning_B  \n",
       "0    702.1603  1939.6112  \n",
       "1    834.0543  2929.4058  \n",
       "2    422.9343  2526.2449  \n",
       "3    429.0335  2281.4286  \n",
       "4    749.8604  2781.6975  "
      ]
     },
     "execution_count": 16,
     "metadata": {},
     "output_type": "execute_result"
    }
   ],
   "source": [
    "A_.columns = [i+\"_A\" for i in A_.columns]\n",
    "B_.columns = [i+\"_B\" for i in B_.columns]\n",
    "df = pd.concat([A_, B_], axis=1)\n",
    "df.head()"
   ]
  },
  {
   "cell_type": "markdown",
   "id": "0673ba4f-820d-4741-8a59-6b12d40b58d4",
   "metadata": {},
   "source": [
    "## Define the hypothesis."
   ]
  },
  {
   "cell_type": "markdown",
   "id": "cb7e562f-27d0-4a84-b3bd-4d5850e20bb3",
   "metadata": {},
   "source": [
    "H0 : M1 = M2 => There is no significant difference between the average return average bidding return and the maximum bidding return average.\n",
    "\n",
    "H1 : M1 ≠ M2 => There is a significant difference between the average return average bidding return and the maximum bidding return average."
   ]
  },
  {
   "cell_type": "code",
   "execution_count": 17,
   "id": "20dc7936-2e53-4c0a-a010-5c81fd20a385",
   "metadata": {},
   "outputs": [
    {
     "name": "stdout",
     "output_type": "stream",
     "text": [
      "Purchasing<Purchase> averages of the Control Group : 550.8941 \n",
      " Purchasing <Purchase> averages of the Test Group : 582.1061\n"
     ]
    }
   ],
   "source": [
    "print(\"Purchasing<Purchase> averages of the Control Group : %.4f\" %A_['Purchase_A'].mean(), \"\\n\",\n",
    "      \"Purchasing <Purchase> averages of the Test Group : %.4f\"  %B_['Purchase_B'].mean())"
   ]
  },
  {
   "cell_type": "markdown",
   "id": "bb24c4c6-1c64-4a84-8f9b-00e903f283d7",
   "metadata": {},
   "source": [
    "## Performing Hypothesis Testing"
   ]
  },
  {
   "cell_type": "markdown",
   "id": "eb78652e-6b75-4ee9-a011-61bfe061744c",
   "metadata": {},
   "source": [
    "The assumption of normality is that the relevant variables in the data set are compatible with the theoretical normal distribution. In other words, it is checked whether the data is normally distributed or not. Another assumption is Variance Homogeneity."
   ]
  },
  {
   "cell_type": "code",
   "execution_count": 18,
   "id": "bc4ae8fb-cb37-484a-9023-4195c588c83a",
   "metadata": {},
   "outputs": [
    {
     "name": "stdout",
     "output_type": "stream",
     "text": [
      "Test statistic = 0.9773, P-Value = 0.5891\n"
     ]
    }
   ],
   "source": [
    "test_st , p_value = shapiro(A_[\"Purchase_A\"])\n",
    "print('Test statistic = %.4f, P-Value = %.4f' % (test_st, p_value))"
   ]
  },
  {
   "cell_type": "markdown",
   "id": "fd701597-0fd6-40e1-8d4e-5668c8a9b0bf",
   "metadata": {},
   "source": [
    "H0 cannot be rejected because the P val value is greater than 0.05. Let's remember H0 again, H0 is the hypothesis that there is no difference between the data distribution and the theoretical normal distribution. Our data is normally distributed."
   ]
  },
  {
   "cell_type": "code",
   "execution_count": 19,
   "id": "bbca0cb2-46cb-4efc-a2b2-d2310bacb331",
   "metadata": {},
   "outputs": [
    {
     "name": "stdout",
     "output_type": "stream",
     "text": [
      "Test statistic = 0.9589, P-Value = 0.1541\n"
     ]
    }
   ],
   "source": [
    "test_st , p_value = shapiro(B_[\"Purchase_B\"])\n",
    "print('Test statistic = %.4f, P-Value = %.4f' % (test_st, p_value))"
   ]
  },
  {
   "cell_type": "markdown",
   "id": "dcba4cbc-4447-4641-b13c-2b0ac6d36a90",
   "metadata": {},
   "source": [
    "Test grubu icin de Purchase degiskeni icin normallik varsayimi saglaniyor. Parametrik testlere bakmamiz gerekecek gibi duruyor. Bu durumda iki bagimsiz ornekles t testi gerceklestirilir. Her ihtimale karsi varyans homojenligi varsayimina da bakalim."
   ]
  },
  {
   "cell_type": "code",
   "execution_count": 20,
   "id": "dfb68bc6-6d9d-4a56-a886-6742538fd83b",
   "metadata": {},
   "outputs": [
    {
     "name": "stdout",
     "output_type": "stream",
     "text": [
      "Test statistic = 2.6393, p-Value = 0.1083\n"
     ]
    }
   ],
   "source": [
    "test_st, p_value = levene(df[\"Purchase_A\"],df[\"Purchase_B\"])\n",
    "print('Test statistic = %.4f, p-Value = %.4f' %(test_st, p_value))"
   ]
  },
  {
   "cell_type": "raw",
   "id": "f05df87d-ad2d-4bd7-8030-1948bd14a8f6",
   "metadata": {},
   "source": [
    "The P value is not less than 0.05,  the H0 hypothesis cannot be rejected. That is, the assumption of variance is provided."
   ]
  },
  {
   "cell_type": "markdown",
   "id": "e5c3039a-27e8-4558-b15f-8e783b232688",
   "metadata": {},
   "source": [
    "# Selection of the test suitable for the study"
   ]
  },
  {
   "cell_type": "raw",
   "id": "6737fb23-0438-4832-a400-3e45e7eb4240",
   "metadata": {},
   "source": [
    "We perform two independent samples T-tests as they are provided in two assumptions. Two independent sample T tests also tell us that there is no significant difference between the two samples."
   ]
  },
  {
   "cell_type": "code",
   "execution_count": 21,
   "id": "a39712d9-9cb7-470c-a8d6-f90afc4e8fea",
   "metadata": {},
   "outputs": [
    {
     "name": "stdout",
     "output_type": "stream",
     "text": [
      "tvalue = -0.9416, pvalue = 0.3493\n"
     ]
    }
   ],
   "source": [
    "test_st, p_value = ttest_ind(df[\"Purchase_A\"], df[\"Purchase_B\"], equal_var=True)\n",
    "print('tvalue = %.4f, pvalue = %.4f' %(test_st, p_value))"
   ]
  },
  {
   "cell_type": "raw",
   "id": "a6745460-b8a0-409d-a1bf-d4eb51c6a598",
   "metadata": {},
   "source": [
    "The P val is 0.3493. So, There is no statistically significant difference between, the Control( “maximum bidding”) campaign and Test group(average bidding) campaign."
   ]
  },
  {
   "cell_type": "code",
   "execution_count": null,
   "id": "f4fab728-619d-473d-a404-fc89d041c966",
   "metadata": {},
   "outputs": [],
   "source": []
  }
 ],
 "metadata": {
  "kernelspec": {
   "display_name": "Python 3 (ipykernel)",
   "language": "python",
   "name": "python3"
  },
  "language_info": {
   "codemirror_mode": {
    "name": "ipython",
    "version": 3
   },
   "file_extension": ".py",
   "mimetype": "text/x-python",
   "name": "python",
   "nbconvert_exporter": "python",
   "pygments_lexer": "ipython3",
   "version": "3.9.7"
  }
 },
 "nbformat": 4,
 "nbformat_minor": 5
}
